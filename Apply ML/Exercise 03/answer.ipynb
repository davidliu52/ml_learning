{
 "cells": [
  {
   "cell_type": "code",
   "execution_count": 107,
   "metadata": {},
   "outputs": [
    {
     "data": {
      "text/plain": [
       "array([[0.12203823, 0.49517691],\n",
       "       [0.03438852, 0.9093204 ],\n",
       "       [0.25877998, 0.66252228]])"
      ]
     },
     "execution_count": 107,
     "metadata": {},
     "output_type": "execute_result"
    }
   ],
   "source": [
    "import numpy as np\n",
    "initial_centroids = np.random.rand(3, 2)\n",
    "initial_centroids"
   ]
  },
  {
   "cell_type": "code",
   "execution_count": 108,
   "metadata": {},
   "outputs": [
    {
     "data": {
      "text/plain": [
       "3"
      ]
     },
     "execution_count": 108,
     "metadata": {},
     "output_type": "execute_result"
    }
   ],
   "source": [
    "K = initial_centroids.shape[0]\n",
    "K"
   ]
  },
  {
   "cell_type": "code",
   "execution_count": 109,
   "metadata": {},
   "outputs": [
    {
     "data": {
      "text/plain": [
       "array([0.03438852, 0.9093204 ])"
      ]
     },
     "execution_count": 109,
     "metadata": {},
     "output_type": "execute_result"
    }
   ],
   "source": [
    "initial_centroids[1,:]\n",
    "\n"
   ]
  },
  {
   "cell_type": "code",
   "execution_count": 110,
   "metadata": {},
   "outputs": [
    {
     "data": {
      "text/plain": [
       "(10, 2)"
      ]
     },
     "execution_count": 110,
     "metadata": {},
     "output_type": "execute_result"
    }
   ],
   "source": [
    "np.random.seed(42)\n",
    "x = np.random.rand(10, 2)  \n",
    "x.shape"
   ]
  },
  {
   "cell_type": "code",
   "execution_count": 120,
   "metadata": {},
   "outputs": [
    {
     "data": {
      "text/plain": [
       "array([[0.52083733, 0.61867148, 0.34088027, 0.37647128, 0.52425101,\n",
       "        0.4854526 , 0.76463824, 0.31745312, 0.18458941, 0.37099448],\n",
       "       [0.34266101, 0.76365185, 0.76308176, 0.0492228 , 0.60139804,\n",
       "        0.06214204, 1.05956279, 0.74073706, 0.46979834, 0.73490678],\n",
       "       [0.31057213, 0.47750397, 0.51684647, 0.28592644, 0.34535214,\n",
       "        0.38887557, 0.72921447, 0.48525861, 0.14507325, 0.40968858]])"
      ]
     },
     "execution_count": 120,
     "metadata": {},
     "output_type": "execute_result"
    }
   ],
   "source": [
    "dists = []  # storing distances from all points to all centroids\n",
    "\n",
    "for k in range(K):  # iterate over all K centroids\n",
    "    dists.append(np.linalg.norm(x-initial_centroids[k,:], ord=2, axis=1))\n",
    "\n",
    "dists = np.vstack(dists)  # shape: [K, N]\n",
    "dists"
   ]
  },
  {
   "cell_type": "code",
   "execution_count": 112,
   "metadata": {},
   "outputs": [
    {
     "data": {
      "text/plain": [
       "array([2, 2, 0, 1, 2, 1, 2, 0, 2, 0], dtype=int64)"
      ]
     },
     "execution_count": 112,
     "metadata": {},
     "output_type": "execute_result"
    }
   ],
   "source": [
    "cluster_labels =np.argmin(dists, axis=0)\n",
    "cluster_labels"
   ]
  },
  {
   "cell_type": "code",
   "execution_count": 113,
   "metadata": {},
   "outputs": [
    {
     "name": "stdout",
     "output_type": "stream",
     "text": [
      "[False False  True False False False False  True False  True]\n",
      "[[0.15601864 0.15599452]\n",
      " [0.18182497 0.18340451]\n",
      " [0.43194502 0.29122914]]\n",
      "[False False False  True False  True False False False False]\n",
      "[[0.05808361 0.86617615]\n",
      " [0.02058449 0.96990985]]\n",
      "[ True  True False False  True False  True False  True False]\n",
      "[[0.37454012 0.95071431]\n",
      " [0.73199394 0.59865848]\n",
      " [0.60111501 0.70807258]\n",
      " [0.83244264 0.21233911]\n",
      " [0.30424224 0.52475643]]\n"
     ]
    }
   ],
   "source": [
    "for k in range(K):\n",
    "\n",
    "        # boolean index, true when data point belongs to current cluster k\n",
    "    in_cluster = cluster_labels == k\n",
    "    print(in_cluster)\n",
    "    cluster_points = x[in_cluster]\n",
    "    print(cluster_points)\n"
   ]
  },
  {
   "cell_type": "code",
   "execution_count": null,
   "metadata": {},
   "outputs": [],
   "source": []
  },
  {
   "cell_type": "code",
   "execution_count": null,
   "metadata": {},
   "outputs": [],
   "source": []
  },
  {
   "cell_type": "code",
   "execution_count": null,
   "metadata": {},
   "outputs": [],
   "source": []
  },
  {
   "cell_type": "code",
   "execution_count": null,
   "metadata": {},
   "outputs": [],
   "source": []
  },
  {
   "cell_type": "code",
   "execution_count": 114,
   "metadata": {},
   "outputs": [
    {
     "name": "stdout",
     "output_type": "stream",
     "text": [
      "Sum along axis=1:\n",
      "[[ 9 12]\n",
      " [27 30]\n",
      " [45 48]]\n",
      "Sum along axis=-1:\n",
      "[[ 3  7 11]\n",
      " [15 19 23]\n",
      " [27 31 35]]\n",
      "Sum along axis=0:\n",
      "[[21 24]\n",
      " [27 30]\n",
      " [33 36]]\n"
     ]
    }
   ],
   "source": [
    "import numpy as np\n",
    "\n",
    "# Sample 3x3x2 3D array\n",
    "array_3d = np.array([[[1, 2],\n",
    "                     [3, 4],\n",
    "                     [5, 6]],\n",
    "                    [[7, 8],\n",
    "                     [9, 10],\n",
    "                     [11, 12]],\n",
    "                    [[13, 14],\n",
    "                     [15, 16],\n",
    "                     [17, 18]]])\n",
    "\n",
    "# Calculate sum along axis=1 (sum along the second axis, i.e., columns)\n",
    "sum_along_axis_1 = np.sum(array_3d, axis=1)\n",
    "print(f\"Sum along axis=1:\\n{sum_along_axis_1}\")\n",
    "\n",
    "# Calculate sum along axis=-1 (sum along the last axis, i.e., the innermost axis)\n",
    "sum_along_axis_minus_1 = np.sum(array_3d, axis=-1)\n",
    "print(f\"Sum along axis=-1:\\n{sum_along_axis_minus_1}\")\n",
    "\n",
    "# Calculate sum along axis=0 (sum along the first axis, i.e., along the \"slices\")\n",
    "sum_along_axis_0 = np.sum(array_3d, axis=0)\n",
    "print(f\"Sum along axis=0:\\n{sum_along_axis_0}\")"
   ]
  },
  {
   "cell_type": "code",
   "execution_count": 115,
   "metadata": {},
   "outputs": [
    {
     "name": "stdout",
     "output_type": "stream",
     "text": [
      "Sum along axis=1 (sum along the rows):\n",
      "[15 18 21 24]\n"
     ]
    }
   ],
   "source": [
    "import numpy as np\n",
    "\n",
    "# Sample 2D array (3x4)\n",
    "array_2d = np.array([[1, 2, 3, 4],\n",
    "                    [5, 6, 7, 8],\n",
    "                    [9, 10, 11, 12]])\n",
    "\n",
    "# Calculate sum along axis=1 (sum along the rows)\n",
    "sum_along_axis_1 = np.sum(array_2d, axis=0)\n",
    "print(f\"Sum along axis=1 (sum along the rows):\\n{sum_along_axis_1}\")\n"
   ]
  },
  {
   "cell_type": "code",
   "execution_count": 116,
   "metadata": {},
   "outputs": [
    {
     "name": "stdout",
     "output_type": "stream",
     "text": [
      "Sum along axis=1 (sum along the rows):\n",
      "[[15 18 21 24]\n",
      " [51 54 57 60]]\n"
     ]
    }
   ],
   "source": [
    "import numpy as np\n",
    "\n",
    "# Sample 3D array (2x3x4)\n",
    "array_3d = np.array([[[1, 2, 3, 4],\n",
    "                      [5, 6, 7, 8],\n",
    "                      [9, 10, 11, 12]],\n",
    "                     \n",
    "                     [[13, 14, 15, 16],\n",
    "                      [17, 18, 19, 20],\n",
    "                      [21, 22, 23, 24]]])\n",
    "\n",
    "# Calculate sum along axis=1 (sum along the rows)\n",
    "sum_along_axis_1 = np.sum(array_3d, axis=1)\n",
    "print(f\"Sum along axis=1 (sum along the rows):\\n{sum_along_axis_1}\")\n"
   ]
  },
  {
   "cell_type": "code",
   "execution_count": 117,
   "metadata": {},
   "outputs": [
    {
     "name": "stdout",
     "output_type": "stream",
     "text": [
      "Sum along axis=2 (sum along the columns):\n",
      "[[10 26 42]\n",
      " [58 74 90]]\n"
     ]
    }
   ],
   "source": [
    "import numpy as np\n",
    "\n",
    "# Sample 3D array (2x3x4)\n",
    "array_3d = np.array([[[1, 2, 3, 4],\n",
    "                      [5, 6, 7, 8],\n",
    "                      [9, 10, 11, 12]],\n",
    "                     \n",
    "                     [[13, 14, 15, 16],\n",
    "                      [17, 18, 19, 20],\n",
    "                      [21, 22, 23, 24]]])\n",
    "\n",
    "# Calculate sum along axis=2 (sum along the columns)\n",
    "sum_along_axis_2 = np.sum(array_3d, axis=2)\n",
    "print(f\"Sum along axis=2 (sum along the columns):\\n{sum_along_axis_2}\")\n"
   ]
  },
  {
   "cell_type": "code",
   "execution_count": 118,
   "metadata": {},
   "outputs": [
    {
     "name": "stdout",
     "output_type": "stream",
     "text": [
      "Sum along axis=0 (sum along the depth):\n",
      "[[14 16 18 20]\n",
      " [22 24 26 28]\n",
      " [30 32 34 36]]\n"
     ]
    }
   ],
   "source": [
    "import numpy as np\n",
    "\n",
    "# Sample 3D array (2x3x4)\n",
    "array_3d = np.array([[[1, 2, 3, 4],\n",
    "                      [5, 6, 7, 8],\n",
    "                      [9, 10, 11, 12]],\n",
    "                     \n",
    "                     [[13, 14, 15, 16],\n",
    "                      [17, 18, 19, 20],\n",
    "                      [21, 22, 23, 24]]])\n",
    "\n",
    "sum_along_axis_0 = np.sum(array_3d, axis=0)\n",
    "print(f\"Sum along axis=0 (sum along the depth):\\n{sum_along_axis_0}\")\n"
   ]
  },
  {
   "cell_type": "code",
   "execution_count": 119,
   "metadata": {},
   "outputs": [
    {
     "name": "stdout",
     "output_type": "stream",
     "text": [
      ":\n",
      "[[15 18 21 24]\n",
      " [51 54 57 60]]\n"
     ]
    }
   ],
   "source": [
    "import numpy as np\n",
    "\n",
    "# Sample 3D array (2x3x4)\n",
    "array_3d = np.array([[[1, 2, 3, 4],\n",
    "                      [5, 6, 7, 8],\n",
    "                      [9, 10, 11, 12]],\n",
    "                     \n",
    "                     [[13, 14, 15, 16],\n",
    "                      [17, 18, 19, 20],\n",
    "                      [21, 22, 23, 24]]])\n",
    "\n",
    "# Calculate sum along axis=2 (sum along the columns)\n",
    "sum_along_axis__1 = np.sum(array_3d, axis=-2)\n",
    "print(f\":\\n{sum_along_axis__1}\")"
   ]
  },
  {
   "cell_type": "code",
   "execution_count": null,
   "metadata": {},
   "outputs": [],
   "source": []
  }
 ],
 "metadata": {
  "kernelspec": {
   "display_name": "Python 3",
   "language": "python",
   "name": "python3"
  },
  "language_info": {
   "codemirror_mode": {
    "name": "ipython",
    "version": 3
   },
   "file_extension": ".py",
   "mimetype": "text/x-python",
   "name": "python",
   "nbconvert_exporter": "python",
   "pygments_lexer": "ipython3",
   "version": "3.7.16"
  }
 },
 "nbformat": 4,
 "nbformat_minor": 2
}
