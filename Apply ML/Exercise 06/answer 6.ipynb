{
 "cells": [
  {
   "cell_type": "code",
   "execution_count": 42,
   "metadata": {},
   "outputs": [],
   "source": [
    "import pandas as pd\n",
    "import numpy as np\n",
    "\n",
    "\n",
    "df = pd.read_csv('decision_tree_dataset.txt',  header=None)\n",
    "df.columns=['A','B','C']\n"
   ]
  },
  {
   "cell_type": "code",
   "execution_count": 45,
   "metadata": {},
   "outputs": [
    {
     "data": {
      "text/html": [
       "<div>\n",
       "<style scoped>\n",
       "    .dataframe tbody tr th:only-of-type {\n",
       "        vertical-align: middle;\n",
       "    }\n",
       "\n",
       "    .dataframe tbody tr th {\n",
       "        vertical-align: top;\n",
       "    }\n",
       "\n",
       "    .dataframe thead th {\n",
       "        text-align: right;\n",
       "    }\n",
       "</style>\n",
       "<table border=\"1\" class=\"dataframe\">\n",
       "  <thead>\n",
       "    <tr style=\"text-align: right;\">\n",
       "      <th></th>\n",
       "      <th>A</th>\n",
       "      <th>B</th>\n",
       "      <th>C</th>\n",
       "    </tr>\n",
       "  </thead>\n",
       "  <tbody>\n",
       "    <tr>\n",
       "      <th>0</th>\n",
       "      <td>-1.137487</td>\n",
       "      <td>-0.405676</td>\n",
       "      <td>0.0</td>\n",
       "    </tr>\n",
       "    <tr>\n",
       "      <th>1</th>\n",
       "      <td>0.474643</td>\n",
       "      <td>1.079230</td>\n",
       "      <td>0.0</td>\n",
       "    </tr>\n",
       "    <tr>\n",
       "      <th>2</th>\n",
       "      <td>0.132201</td>\n",
       "      <td>-0.966897</td>\n",
       "      <td>1.0</td>\n",
       "    </tr>\n",
       "    <tr>\n",
       "      <th>3</th>\n",
       "      <td>0.523287</td>\n",
       "      <td>-0.367837</td>\n",
       "      <td>1.0</td>\n",
       "    </tr>\n",
       "    <tr>\n",
       "      <th>4</th>\n",
       "      <td>0.143975</td>\n",
       "      <td>-0.453445</td>\n",
       "      <td>1.0</td>\n",
       "    </tr>\n",
       "  </tbody>\n",
       "</table>\n",
       "</div>"
      ],
      "text/plain": [
       "          A         B    C\n",
       "0 -1.137487 -0.405676  0.0\n",
       "1  0.474643  1.079230  0.0\n",
       "2  0.132201 -0.966897  1.0\n",
       "3  0.523287 -0.367837  1.0\n",
       "4  0.143975 -0.453445  1.0"
      ]
     },
     "execution_count": 45,
     "metadata": {},
     "output_type": "execute_result"
    }
   ],
   "source": [
    "df.head()"
   ]
  },
  {
   "cell_type": "code",
   "execution_count": 52,
   "metadata": {},
   "outputs": [
    {
     "name": "stdout",
     "output_type": "stream",
     "text": [
      "Best Split Dimension: 0\n",
      "Best Split Value: 2\n",
      "Split Index: [ True  True False False]\n"
     ]
    }
   ],
   "source": [
    "import numpy as np\n",
    "\n",
    "def entropy(y):\n",
    "    \"\"\"\n",
    "    Calculate the information entropy H(x) for a vector of labels.\n",
    "\n",
    "    Parameters:\n",
    "    - y: numpy array, vector of labels (integers).\n",
    "\n",
    "    Returns:\n",
    "    - float, information entropy.\n",
    "    \"\"\"\n",
    "    unique_labels, counts = np.unique(y, return_counts=True)\n",
    "    probabilities = counts / len(y)\n",
    "    entropy = -np.sum(probabilities * np.log2(probabilities))\n",
    "    return entropy\n",
    "\n",
    "def information_gain(y_parent, index_split):\n",
    "    \"\"\"\n",
    "    Calculate the information gain for a given split.\n",
    "\n",
    "    Parameters:\n",
    "    - y_parent: numpy array, labels of the parent node.\n",
    "    - index_split: numpy array, binary vector indicating samples assigned to the left child (1) or right child (0).\n",
    "\n",
    "    Returns:\n",
    "    - float, information gain.\n",
    "    \"\"\"\n",
    "    entropy_parent = entropy(y_parent)\n",
    "    size_left = np.sum(index_split)\n",
    "    size_right = len(y_parent) - size_left\n",
    "\n",
    "    entropy_left = entropy(y_parent[index_split])\n",
    "    entropy_right = entropy(y_parent[~index_split])\n",
    "\n",
    "    information_gain = entropy_parent - (size_left / len(y_parent)) * entropy_left - (size_right / len(y_parent)) * entropy_right\n",
    "    return information_gain\n",
    "\n",
    "def best_split(X, y):\n",
    "    \"\"\"\n",
    "    Find the best split dimension and value w.r.t. information gain.\n",
    "\n",
    "    Parameters:\n",
    "    - X: numpy array, data.\n",
    "    - y: numpy array, labels.\n",
    "\n",
    "    Returns:\n",
    "    - tuple (split_dim, split_val), best split dimension and value.\n",
    "    \"\"\"\n",
    "    num_features = X.shape[1]\n",
    "    best_information_gain = 0\n",
    "    best_split_dim = None\n",
    "    best_split_val = None\n",
    "\n",
    "    for split_dim in range(num_features):\n",
    "        unique_values = np.unique(X[:, split_dim])\n",
    "        for split_val in unique_values:\n",
    "            index_split = X[:, split_dim] <= split_val\n",
    "            gain = information_gain(y, index_split)\n",
    "\n",
    "            if gain > best_information_gain:\n",
    "                best_information_gain = gain\n",
    "                best_split_dim = split_dim\n",
    "                best_split_val = split_val\n",
    "\n",
    "    return best_split_dim, best_split_val\n",
    "\n",
    "def create_split(X, split_dim, split_val):\n",
    "    \"\"\"\n",
    "    Create a boolean vector indicating assignment to the left child (1) or right child (0).\n",
    "\n",
    "    Parameters:\n",
    "    - X: numpy array, data.\n",
    "    - split_dim: int, split dimension.\n",
    "    - split_val: float, split value.\n",
    "\n",
    "    Returns:\n",
    "    - numpy array, boolean vector indicating assignment to the left child (1) or right child (0).\n",
    "    \"\"\"\n",
    "    return X[:, split_dim] <= split_val\n",
    "\n",
    "# Example Usage:\n",
    "# Assuming X is your data and y is the corresponding labels\n",
    "X = np.array([[1, 2], [2, 3], [3, 4], [4, 5]])\n",
    "y = np.array([0, 0, 1, 1])\n",
    "\n",
    "split_dim, split_val = best_split(X, y)\n",
    "split_idx = create_split(X, split_dim, split_val)\n",
    "\n",
    "print(\"Best Split Dimension:\", split_dim)\n",
    "print(\"Best Split Value:\", split_val)\n",
    "print(\"Split Index:\", split_idx)\n"
   ]
  },
  {
   "cell_type": "code",
   "execution_count": 70,
   "metadata": {},
   "outputs": [
    {
     "data": {
      "text/plain": [
       "30"
      ]
     },
     "execution_count": 70,
     "metadata": {},
     "output_type": "execute_result"
    }
   ],
   "source": [
    "#df_label=df.iloc[:, 2:3] # exclusive \n",
    "df_label = np.array(df.iloc[:,2])\n",
    "len(df_label)\n",
    "parent=df.iloc[:,0:2]\n",
    "parent=np.array(parent)\n",
    "len(parent)"
   ]
  },
  {
   "cell_type": "code",
   "execution_count": 71,
   "metadata": {},
   "outputs": [
    {
     "data": {
      "image/png": "[encoded data removed]",
      "text/plain": [
       "<Figure size 640x480 with 1 Axes>"
      ]
     },
     "metadata": {},
     "output_type": "display_data"
    }
   ],
   "source": [
    "import matplotlib.pyplot as plt\n",
    "\n",
    "# Function to plot the decision boundary\n",
    "def plot_decision_boundary(X, y, split_dim, split_val):\n",
    "    plt.scatter(X[y == 0, 0], X[y == 0, 1], label='Class 0', marker='o')\n",
    "    plt.scatter(X[y == 1, 0], X[y == 1, 1], label='Class 1', marker='x')\n",
    "    \n",
    "    plt.axvline(x=split_val, color='red', linestyle='--', label=f'Split Dimension {split_dim}\\nSplit Value {split_val}')\n",
    "    \n",
    "    plt.xlabel('Feature 1')\n",
    "    plt.ylabel('Feature 2')\n",
    "    plt.title('Decision Boundary')\n",
    "    plt.legend()\n",
    "    plt.show()\n",
    "\n",
    "# Example Usage:\n",
    "# Assuming X is your data and y is the corresponding labels\n",
    "X =parent\n",
    "y = df_label\n",
    "\n",
    "split_dim, split_val = best_split(X, y)\n",
    "split_idx = create_split(X, split_dim, split_val)\n",
    "\n",
    "# Plot the decision boundary\n",
    "plot_decision_boundary(X, y, split_dim, split_val)\n"
   ]
  }
 ],
 "metadata": {
  "kernelspec": {
   "display_name": "Python 3",
   "language": "python",
   "name": "python3"
  },
  "language_info": {
   "codemirror_mode": {
    "name": "ipython",
    "version": 3
   },
   "file_extension": ".py",
   "mimetype": "text/x-python",
   "name": "python",
   "nbconvert_exporter": "python",
   "pygments_lexer": "ipython3",
   "version": "3.7.16"
  }
 },
 "nbformat": 4,
 "nbformat_minor": 2
}
