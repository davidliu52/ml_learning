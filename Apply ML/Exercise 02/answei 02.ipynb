{
 "cells": [
  {
   "cell_type": "code",
   "execution_count": 46,
   "metadata": {},
   "outputs": [],
   "source": [
    "import numpy as np\n",
    "import matplotlib.pyplot as plt \n"
   ]
  },
  {
   "cell_type": "code",
   "execution_count": 94,
   "metadata": {},
   "outputs": [
    {
     "data": {
      "text/plain": [
       "array(['contamination', 'corrosion', 'excessive load', 'false brinelling',\n",
       "       'loose fits', 'lubricant failure', 'misalignment',\n",
       "       'normal fatigue', 'overheating', 'reverse loading',\n",
       "       'true brinelling'], dtype='<U17')"
      ]
     },
     "execution_count": 94,
     "metadata": {},
     "output_type": "execute_result"
    }
   ],
   "source": [
    "values=np.genfromtxt('bearing_faults.csv',dtype='str', delimiter=\",\")\n",
    "classes = np.unique(values)\n",
    "classes\n"
   ]
  },
  {
   "cell_type": "code",
   "execution_count": null,
   "metadata": {},
   "outputs": [],
   "source": [
    "def encode(self,values):\n",
    "\n",
    "    self.classes = np.unique(values)\n",
    "    self.num_classes = len(self.classes)\n",
    "    self.class_map = dict(zip(self.classes, np.arange(self.num_classes)))\n",
    "    encoded_vals=[]\n",
    "    for val in values:\n",
    "       enc_value = np.zeros(self.num_classes)\n",
    "       enc_value[self.class_map[val]] = 1\n",
    "       encoded_vals.append(enc_value)\n",
    "    return encoded_vals"
   ]
  },
  {
   "cell_type": "code",
   "execution_count": 63,
   "metadata": {},
   "outputs": [],
   "source": [
    "def decode(self, enc_vals):\n",
    "    self._inv_class_map = {v:k for k, v in self.class_map.items()}\n",
    "    values = []\n",
    "    for enc in enc_vals:\n",
    "        idx = np.aegwhere(enc == 1)[0][0]\n",
    "        values.append(self._inv_class_map[idx])\n",
    "    return np.hstack(values)\n"
   ]
  },
  {
   "cell_type": "code",
   "execution_count": 106,
   "metadata": {},
   "outputs": [
    {
     "name": "stdout",
     "output_type": "stream",
     "text": [
      "(2, 11)\n"
     ]
    },
    {
     "data": {
      "text/plain": [
       "array([['corrosion']], dtype='<U17')"
      ]
     },
     "execution_count": 106,
     "metadata": {},
     "output_type": "execute_result"
    }
   ],
   "source": [
    "from sklearn.preprocessing import OneHotEncoder\n",
    "values = np.expand_dims(classes, axis=1)\n",
    "values = np.array(values)\n",
    "OHE = OneHotEncoder()\n",
    "OHE.fit(values)\n",
    "encoded_values =OHE.transform([['contamination'],\n",
    "                     ['corrosion']]).toarray()\n",
    "print(encoded_values.shape)\n",
    "test= [0,1,0,0,0,0,0,0,0,0,0]\n",
    "test=np.reshape(test,(1,11))\n",
    "decoded_values = OHE.inverse_transform(test)\n",
    "decoded_values"
   ]
  },
  {
   "cell_type": "code",
   "execution_count": null,
   "metadata": {},
   "outputs": [],
   "source": []
  },
  {
   "cell_type": "code",
   "execution_count": null,
   "metadata": {},
   "outputs": [],
   "source": []
  },
  {
   "cell_type": "code",
   "execution_count": null,
   "metadata": {},
   "outputs": [],
   "source": []
  },
  {
   "cell_type": "code",
   "execution_count": null,
   "metadata": {},
   "outputs": [],
   "source": []
  },
  {
   "cell_type": "code",
   "execution_count": null,
   "metadata": {},
   "outputs": [],
   "source": []
  },
  {
   "cell_type": "code",
   "execution_count": null,
   "metadata": {},
   "outputs": [],
   "source": []
  },
  {
   "cell_type": "code",
   "execution_count": null,
   "metadata": {},
   "outputs": [],
   "source": []
  },
  {
   "cell_type": "code",
   "execution_count": null,
   "metadata": {},
   "outputs": [],
   "source": []
  },
  {
   "cell_type": "code",
   "execution_count": null,
   "metadata": {},
   "outputs": [],
   "source": []
  },
  {
   "cell_type": "code",
   "execution_count": null,
   "metadata": {},
   "outputs": [],
   "source": []
  },
  {
   "cell_type": "code",
   "execution_count": null,
   "metadata": {},
   "outputs": [],
   "source": []
  },
  {
   "cell_type": "code",
   "execution_count": null,
   "metadata": {},
   "outputs": [],
   "source": []
  },
  {
   "cell_type": "code",
   "execution_count": null,
   "metadata": {},
   "outputs": [],
   "source": []
  },
  {
   "cell_type": "code",
   "execution_count": null,
   "metadata": {},
   "outputs": [],
   "source": []
  },
  {
   "cell_type": "code",
   "execution_count": null,
   "metadata": {},
   "outputs": [],
   "source": []
  }
 ],
 "metadata": {
  "kernelspec": {
   "display_name": "Python 3",
   "language": "python",
   "name": "python3"
  },
  "language_info": {
   "codemirror_mode": {
    "name": "ipython",
    "version": 3
   },
   "file_extension": ".py",
   "mimetype": "text/x-python",
   "name": "python",
   "nbconvert_exporter": "python",
   "pygments_lexer": "ipython3",
   "version": "3.7.16"
  }
 },
 "nbformat": 4,
 "nbformat_minor": 2
}
